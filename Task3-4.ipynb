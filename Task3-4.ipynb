{
 "cells": [
  {
   "cell_type": "markdown",
   "id": "0ff9d12c-5b13-491c-b4b7-210a28fd32ed",
   "metadata": {},
   "source": [
    "# ***TASK 3***\n",
    "\n",
    "Description:\n",
    "\n",
    "\"Write a function that takes as input two timestamps of the form 2017/05/13 12:00 and calculates their differences in hours. Please only return the full hour difference and round the results. E.g. 2022/02/15 00:05 and 2022/02/15 01:00 would return 1 hour.\""
   ]
  },
  {
   "cell_type": "code",
   "execution_count": 1,
   "id": "843cfc34-3a20-4493-b0ae-487e017347b0",
   "metadata": {},
   "outputs": [],
   "source": [
    "import pandas as pd\n",
    "from typing import List"
   ]
  },
  {
   "cell_type": "code",
   "execution_count": 2,
   "id": "d59604bd-92bf-424d-b41d-d964c8c2df40",
   "metadata": {},
   "outputs": [],
   "source": [
    "def calculate_hours(t1: str, t2: str) -> int:\n",
    "    \"\"\"\n",
    "    Calculates difference in hours between `t1` and `t2` in hours, rounded to the nearest full hour.\n",
    "    :param t1: str, YYYY/mm/dd HH:MM formatted timestamp. Start datetime.\n",
    "    :param t2: str, YYYY/mm/dd HH:MM formatted timestamp. End datetime.\n",
    "    :return: int\n",
    "    \"\"\"\n",
    "    return round((pd.Timestamp(t2) - pd.Timestamp(t1)).total_seconds() / 3600)"
   ]
  },
  {
   "cell_type": "markdown",
   "id": "21e4c457-fa78-47c6-9b28-9061ac665f9b",
   "metadata": {},
   "source": [
    "# ***TASK 4***\n",
    "\n",
    "Description:\n",
    "\n",
    "\"Expand the above function to only count the time difference between 09:00 – 17:00 and only on weekdays.\""
   ]
  },
  {
   "cell_type": "code",
   "execution_count": 3,
   "id": "fe79b494-0619-4195-bac0-deff663136a5",
   "metadata": {},
   "outputs": [],
   "source": [
    "def calculate_business_hours(t1: str, t2: str, \n",
    "                             bday_start: int = 9, bday_end: int = 17,\n",
    "                             workdays: List = [0, 1, 2, 3, 4]) -> int:\n",
    "    \"\"\"\n",
    "    Calculates the difference in hours between `t1` and `t2` in business hours, where business rules\n",
    "        applied at input. Returns number of hours as integer rounded to nearest whole hour.\n",
    "    :param t1: str, YYYY/mm/dd HH:MM formatted timestamp. Start datetime.\n",
    "    :param t2: str, YYYY/mm/dd HH:MM formatted timestamp. End datetime.\n",
    "    :param bday_start: int, business day start in 24 hour time, e.g. 9am -> 9\n",
    "    :param bday_end: int, business day end in 24 hour time, e.g. 5am -> 17\n",
    "    :param workdays: list, zero-based days of week to consider as workdays, e.g. 0 -> Monday, 6 -> Sunday\n",
    "    :return: int\n",
    "    \"\"\"\n",
    "    start = pd.Timestamp(t1).floor('H')  # floor hour of start\n",
    "    start_sec = (pd.Timestamp(t1).ceil('H') - pd.Timestamp(t1)).seconds  # seconds of first hour to count\n",
    "    \n",
    "    end = pd.Timestamp(t2).ceil('H')  # ceil hour of end\n",
    "    end_sec = (pd.Timestamp(t2) - pd.Timestamp(t2).floor('H')).seconds # seconds of last hour to count\n",
    "    \n",
    "    ind = pd.date_range(start=start, end=end, freq='H')  # create arr of hours between start & end\n",
    "    working_hours = [i for i in range(bday_start, bday_end+1)]\n",
    "    \n",
    "    df = pd.concat([pd.Series(ind).dt.dayofweek.rename('dow'),\n",
    "                pd.Series(ind).dt.hour.rename('hr')], axis=1).set_index(ind)\n",
    "    \n",
    "    # Total seconds in a full hour\n",
    "    df['sec'] = 3600\n",
    "    \n",
    "    # Replace seconds in start & end hour\n",
    "    df.iloc[0, -1] = start_sec\n",
    "    df.iloc[-1, -1] = end_sec\n",
    "    \n",
    "    # Remove extra hour, else double count last/first\n",
    "    return round((df[(df['dow'].isin(workdays)) & \n",
    "                     (df['hr'].isin(working_hours))]['sec'].sum() - 3600) / 3600)\n",
    "    "
   ]
  }
 ],
 "metadata": {
  "kernelspec": {
   "display_name": "Python 3 (ipykernel)",
   "language": "python",
   "name": "python3"
  },
  "language_info": {
   "codemirror_mode": {
    "name": "ipython",
    "version": 3
   },
   "file_extension": ".py",
   "mimetype": "text/x-python",
   "name": "python",
   "nbconvert_exporter": "python",
   "pygments_lexer": "ipython3",
   "version": "3.10.11"
  }
 },
 "nbformat": 4,
 "nbformat_minor": 5
}
