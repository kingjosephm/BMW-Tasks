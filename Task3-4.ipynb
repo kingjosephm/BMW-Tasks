{
 "cells": [
  {
   "cell_type": "markdown",
   "id": "0ff9d12c-5b13-491c-b4b7-210a28fd32ed",
   "metadata": {},
   "source": [
    "# ***TASK 3***\n",
    "\n",
    "Description:\n",
    "\n",
    "\"Write a function that takes as input two timestamps of the form 2017/05/13 12:00 and calculates their differences in hours. Please only return the full hour difference and round the results. E.g. 2022/02/15 00:05 and 2022/02/15 01:00 would return 1 hour.\""
   ]
  },
  {
   "cell_type": "code",
   "execution_count": 1,
   "id": "843cfc34-3a20-4493-b0ae-487e017347b0",
   "metadata": {},
   "outputs": [],
   "source": [
    "import pandas as pd"
   ]
  },
  {
   "cell_type": "code",
   "execution_count": 2,
   "id": "d59604bd-92bf-424d-b41d-d964c8c2df40",
   "metadata": {},
   "outputs": [],
   "source": [
    "def calculate_hours(t1: str, t2: str) -> int:\n",
    "    \"\"\"\n",
    "    Calculates difference in hours between `t1` and `t2` in hours, rounded to the nearest full hour.\n",
    "    :param t1: str, YYYY/mm/DD HH:MM formatted timestamp. Start datetime.\n",
    "    :param t2: str, YYYY/mm/DD HH:MM formatted timestamp. End datetime.\n",
    "    :return: int\n",
    "    \"\"\"\n",
    "    return round((pd.Timestamp(t2) - pd.Timestamp(t1)).seconds / 3600)"
   ]
  }
 ],
 "metadata": {
  "kernelspec": {
   "display_name": "Python 3 (ipykernel)",
   "language": "python",
   "name": "python3"
  },
  "language_info": {
   "codemirror_mode": {
    "name": "ipython",
    "version": 3
   },
   "file_extension": ".py",
   "mimetype": "text/x-python",
   "name": "python",
   "nbconvert_exporter": "python",
   "pygments_lexer": "ipython3",
   "version": "3.10.11"
  }
 },
 "nbformat": 4,
 "nbformat_minor": 5
}
