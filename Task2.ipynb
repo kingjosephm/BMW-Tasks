{
 "cells": [
  {
   "cell_type": "markdown",
   "id": "3be137ab-a3b2-4448-ac0d-82f344c0a5cd",
   "metadata": {},
   "source": [
    "# ***TASK 2***\n",
    "\n",
    "Description:\n",
    "\n",
    "\"The file “Parts.csv” contains descriptions of some fictitious parts. Your goal is to find 5 alternative parts to each provided fictitious part in the dataset based on their similarity. First provide descriptive analysis of the data and highlight 2-3 findings and difficulties of the data that we provided and describe how you would handle this. Continue to implement a model that is finding the similar fictitious parts based on the column “DESCRIPTION”. Please give details of your model and why you choose this. Once you finished your implementation of your chosen model, please think about how you would change or addition your code, when you have more entries and would consider the additional attributes.\""
   ]
  },
  {
   "cell_type": "code",
   "execution_count": 35,
   "id": "1abb9b76-f2e9-4dc3-ba80-15a08559b6d3",
   "metadata": {},
   "outputs": [],
   "source": [
    "import pandas as pd\n",
    "\n",
    "pd.set_option('display.max_rows', 50)\n",
    "pd.set_option('display.max_columns', 50)\n",
    "pd.set_option('display.max_colwidth', None)"
   ]
  },
  {
   "cell_type": "markdown",
   "id": "48ab9239-868a-4bdb-91da-3fbf5dbc0ffc",
   "metadata": {},
   "source": [
    "## Read data"
   ]
  },
  {
   "cell_type": "code",
   "execution_count": 8,
   "id": "d8624ce0-f531-43d4-8c47-224781056561",
   "metadata": {},
   "outputs": [],
   "source": [
    "df = pd.read_csv('./data/parts.csv', sep=';')"
   ]
  },
  {
   "cell_type": "code",
   "execution_count": 9,
   "id": "fdc186ef-d1a6-4b57-8d5e-58b5c71bfb4b",
   "metadata": {},
   "outputs": [
    {
     "data": {
      "text/plain": [
       "(998, 32)"
      ]
     },
     "execution_count": 9,
     "metadata": {},
     "output_type": "execute_result"
    }
   ],
   "source": [
    "df.shape"
   ]
  },
  {
   "cell_type": "code",
   "execution_count": 12,
   "id": "1bf3e49c-d85b-4346-a05c-2af0ecfdd64e",
   "metadata": {},
   "outputs": [
    {
     "data": {
      "text/html": [
       "<div>\n",
       "<style scoped>\n",
       "    .dataframe tbody tr th:only-of-type {\n",
       "        vertical-align: middle;\n",
       "    }\n",
       "\n",
       "    .dataframe tbody tr th {\n",
       "        vertical-align: top;\n",
       "    }\n",
       "\n",
       "    .dataframe thead th {\n",
       "        text-align: right;\n",
       "    }\n",
       "</style>\n",
       "<table border=\"1\" class=\"dataframe\">\n",
       "  <thead>\n",
       "    <tr style=\"text-align: right;\">\n",
       "      <th></th>\n",
       "      <th>ID</th>\n",
       "      <th>DESCRIPTION</th>\n",
       "      <th>Attribut1</th>\n",
       "      <th>Additional Feature</th>\n",
       "      <th>Application</th>\n",
       "      <th>Characteristic</th>\n",
       "      <th>Temp</th>\n",
       "      <th>Height</th>\n",
       "      <th>Length in mm</th>\n",
       "      <th>Rating</th>\n",
       "      <th>Material</th>\n",
       "      <th>Size</th>\n",
       "      <th>Code</th>\n",
       "      <th>Joule-integral-Nom (J)</th>\n",
       "      <th>LC Risk</th>\n",
       "      <th>Maximum AC Voltage Rating</th>\n",
       "      <th>Maximum DC Voltage Rating</th>\n",
       "      <th>Maximum Power Dissipation</th>\n",
       "      <th>Mounting</th>\n",
       "      <th>Mounting Feature</th>\n",
       "      <th>Number of Terminals</th>\n",
       "      <th>Operating Temperature-Max (Cel)</th>\n",
       "      <th>Operating Temperature-Min (Cel)</th>\n",
       "      <th>Physical Dimension</th>\n",
       "      <th>Pre-arcing time-Min (ms)</th>\n",
       "      <th>Product Diameter</th>\n",
       "      <th>Product Length</th>\n",
       "      <th>Rated Breaking Capacity (A)</th>\n",
       "      <th>Rated Current (A)</th>\n",
       "      <th>Rated Voltage (V)</th>\n",
       "      <th>Rated Voltage(AC) (V)</th>\n",
       "      <th>Rated Voltage(DC) (V)</th>\n",
       "    </tr>\n",
       "  </thead>\n",
       "  <tbody>\n",
       "    <tr>\n",
       "      <th>0</th>\n",
       "      <td>A1</td>\n",
       "      <td>Indicator Red Fast Movement 1.6A 250V Holder P...</td>\n",
       "      <td>Fast</td>\n",
       "      <td>NaN</td>\n",
       "      <td>Primary Protection In Equipment</td>\n",
       "      <td>VERY FAST</td>\n",
       "      <td>NaN</td>\n",
       "      <td>20mm</td>\n",
       "      <td>5.2mm</td>\n",
       "      <td>1.6A</td>\n",
       "      <td>Ceramic</td>\n",
       "      <td>5 X 20mm</td>\n",
       "      <td>NaN</td>\n",
       "      <td>0.755J</td>\n",
       "      <td>Low</td>\n",
       "      <td>250V</td>\n",
       "      <td>NaN</td>\n",
       "      <td>4W</td>\n",
       "      <td>Holder</td>\n",
       "      <td>INLINE/HOLDER</td>\n",
       "      <td>2.0</td>\n",
       "      <td>125Cel</td>\n",
       "      <td>-55Cel</td>\n",
       "      <td>5.2mm  x  20mm</td>\n",
       "      <td>3ms</td>\n",
       "      <td>5.2mm</td>\n",
       "      <td>20mm</td>\n",
       "      <td>1500A</td>\n",
       "      <td>1.6A</td>\n",
       "      <td>250V</td>\n",
       "      <td>250V</td>\n",
       "      <td>NaN</td>\n",
       "    </tr>\n",
       "    <tr>\n",
       "      <th>1</th>\n",
       "      <td>A2</td>\n",
       "      <td>Non Resettable Indicators Electric Indicator, ...</td>\n",
       "      <td>NaN</td>\n",
       "      <td>NaN</td>\n",
       "      <td>Primary Protection In Equipment</td>\n",
       "      <td>VERY FAST</td>\n",
       "      <td>NaN</td>\n",
       "      <td>20mm</td>\n",
       "      <td>5.2mm</td>\n",
       "      <td>NaN</td>\n",
       "      <td>Ceramic</td>\n",
       "      <td>5 X 20mm</td>\n",
       "      <td>e2</td>\n",
       "      <td>36.7J</td>\n",
       "      <td>Low</td>\n",
       "      <td>NaN</td>\n",
       "      <td>NaN</td>\n",
       "      <td>NaN</td>\n",
       "      <td>Holder</td>\n",
       "      <td>INLINE/HOLDER</td>\n",
       "      <td>2.0</td>\n",
       "      <td>125Cel</td>\n",
       "      <td>-55Cel</td>\n",
       "      <td>5.2mm  x  20mm</td>\n",
       "      <td>3ms</td>\n",
       "      <td>5.2mm</td>\n",
       "      <td>20mm</td>\n",
       "      <td>1500A</td>\n",
       "      <td>6.3A</td>\n",
       "      <td>250V</td>\n",
       "      <td>250V</td>\n",
       "      <td>NaN</td>\n",
       "    </tr>\n",
       "    <tr>\n",
       "      <th>2</th>\n",
       "      <td>A3</td>\n",
       "      <td>Indicator Red Fast Movement 8A 250V Holder Pla...</td>\n",
       "      <td>Fast</td>\n",
       "      <td>NaN</td>\n",
       "      <td>Primary Protection In Equipment</td>\n",
       "      <td>VERY FAST</td>\n",
       "      <td>NaN</td>\n",
       "      <td>20mm</td>\n",
       "      <td>5.2mm</td>\n",
       "      <td>8A</td>\n",
       "      <td>Ceramic</td>\n",
       "      <td>5 X 20mm</td>\n",
       "      <td>e2</td>\n",
       "      <td>81.9J</td>\n",
       "      <td>Low</td>\n",
       "      <td>250V</td>\n",
       "      <td>NaN</td>\n",
       "      <td>4W</td>\n",
       "      <td>Holder</td>\n",
       "      <td>INLINE/HOLDER</td>\n",
       "      <td>2.0</td>\n",
       "      <td>125Cel</td>\n",
       "      <td>-55Cel</td>\n",
       "      <td>5.2mm  x  20mm</td>\n",
       "      <td>10ms</td>\n",
       "      <td>5.2mm</td>\n",
       "      <td>20mm</td>\n",
       "      <td>1500A</td>\n",
       "      <td>8A</td>\n",
       "      <td>250V</td>\n",
       "      <td>250V</td>\n",
       "      <td>NaN</td>\n",
       "    </tr>\n",
       "    <tr>\n",
       "      <th>3</th>\n",
       "      <td>A4</td>\n",
       "      <td>Non Resettable Indicators Electric Indicator, ...</td>\n",
       "      <td>NaN</td>\n",
       "      <td>NaN</td>\n",
       "      <td>Primary Protection In Equipment</td>\n",
       "      <td>VERY FAST</td>\n",
       "      <td>NaN</td>\n",
       "      <td>20mm</td>\n",
       "      <td>5.2mm</td>\n",
       "      <td>NaN</td>\n",
       "      <td>Ceramic</td>\n",
       "      <td>5 X 20mm</td>\n",
       "      <td>e2</td>\n",
       "      <td>141J</td>\n",
       "      <td>Low</td>\n",
       "      <td>NaN</td>\n",
       "      <td>NaN</td>\n",
       "      <td>NaN</td>\n",
       "      <td>Holder</td>\n",
       "      <td>INLINE/HOLDER</td>\n",
       "      <td>2.0</td>\n",
       "      <td>125Cel</td>\n",
       "      <td>-55Cel</td>\n",
       "      <td>5.2mm  x  20mm</td>\n",
       "      <td>10ms</td>\n",
       "      <td>5.2mm</td>\n",
       "      <td>20mm</td>\n",
       "      <td>1500A</td>\n",
       "      <td>10A</td>\n",
       "      <td>250V</td>\n",
       "      <td>250V</td>\n",
       "      <td>NaN</td>\n",
       "    </tr>\n",
       "    <tr>\n",
       "      <th>4</th>\n",
       "      <td>A5</td>\n",
       "      <td>Indicator Red Fast Movement 12.5A 250V Holder ...</td>\n",
       "      <td>Fast</td>\n",
       "      <td>NaN</td>\n",
       "      <td>Primary Protection In Equipment</td>\n",
       "      <td>VERY FAST</td>\n",
       "      <td>NaN</td>\n",
       "      <td>20mm</td>\n",
       "      <td>5.2mm</td>\n",
       "      <td>12.5A</td>\n",
       "      <td>Ceramic</td>\n",
       "      <td>5 X 20mm</td>\n",
       "      <td>NaN</td>\n",
       "      <td>203J</td>\n",
       "      <td>Low</td>\n",
       "      <td>250V</td>\n",
       "      <td>NaN</td>\n",
       "      <td>6.9(Typ)W</td>\n",
       "      <td>Holder</td>\n",
       "      <td>INLINE/HOLDER</td>\n",
       "      <td>2.0</td>\n",
       "      <td>125Cel</td>\n",
       "      <td>-55Cel</td>\n",
       "      <td>5.2mm  x  20mm</td>\n",
       "      <td>10ms</td>\n",
       "      <td>5.2mm</td>\n",
       "      <td>20mm</td>\n",
       "      <td>500A</td>\n",
       "      <td>12.5A</td>\n",
       "      <td>250V</td>\n",
       "      <td>250V</td>\n",
       "      <td>NaN</td>\n",
       "    </tr>\n",
       "  </tbody>\n",
       "</table>\n",
       "</div>"
      ],
      "text/plain": [
       "   ID                                        DESCRIPTION Attribut1  \\\n",
       "0  A1  Indicator Red Fast Movement 1.6A 250V Holder P...      Fast   \n",
       "1  A2  Non Resettable Indicators Electric Indicator, ...       NaN   \n",
       "2  A3  Indicator Red Fast Movement 8A 250V Holder Pla...      Fast   \n",
       "3  A4  Non Resettable Indicators Electric Indicator, ...       NaN   \n",
       "4  A5  Indicator Red Fast Movement 12.5A 250V Holder ...      Fast   \n",
       "\n",
       "  Additional Feature                      Application Characteristic Temp  \\\n",
       "0                NaN  Primary Protection In Equipment      VERY FAST  NaN   \n",
       "1                NaN  Primary Protection In Equipment      VERY FAST  NaN   \n",
       "2                NaN  Primary Protection In Equipment      VERY FAST  NaN   \n",
       "3                NaN  Primary Protection In Equipment      VERY FAST  NaN   \n",
       "4                NaN  Primary Protection In Equipment      VERY FAST  NaN   \n",
       "\n",
       "  Height Length in mm Rating Material      Size Code Joule-integral-Nom (J)  \\\n",
       "0   20mm        5.2mm   1.6A  Ceramic  5 X 20mm  NaN                 0.755J   \n",
       "1   20mm        5.2mm    NaN  Ceramic  5 X 20mm   e2                  36.7J   \n",
       "2   20mm        5.2mm     8A  Ceramic  5 X 20mm   e2                  81.9J   \n",
       "3   20mm        5.2mm    NaN  Ceramic  5 X 20mm   e2                   141J   \n",
       "4   20mm        5.2mm  12.5A  Ceramic  5 X 20mm  NaN                   203J   \n",
       "\n",
       "  LC Risk Maximum AC Voltage Rating Maximum DC Voltage Rating  \\\n",
       "0     Low                      250V                       NaN   \n",
       "1     Low                       NaN                       NaN   \n",
       "2     Low                      250V                       NaN   \n",
       "3     Low                       NaN                       NaN   \n",
       "4     Low                      250V                       NaN   \n",
       "\n",
       "  Maximum Power Dissipation Mounting Mounting Feature  Number of Terminals  \\\n",
       "0                        4W   Holder    INLINE/HOLDER                  2.0   \n",
       "1                       NaN   Holder    INLINE/HOLDER                  2.0   \n",
       "2                        4W   Holder    INLINE/HOLDER                  2.0   \n",
       "3                       NaN   Holder    INLINE/HOLDER                  2.0   \n",
       "4                 6.9(Typ)W   Holder    INLINE/HOLDER                  2.0   \n",
       "\n",
       "  Operating Temperature-Max (Cel) Operating Temperature-Min (Cel)  \\\n",
       "0                          125Cel                          -55Cel   \n",
       "1                          125Cel                          -55Cel   \n",
       "2                          125Cel                          -55Cel   \n",
       "3                          125Cel                          -55Cel   \n",
       "4                          125Cel                          -55Cel   \n",
       "\n",
       "  Physical Dimension Pre-arcing time-Min (ms) Product Diameter Product Length  \\\n",
       "0     5.2mm  x  20mm                      3ms            5.2mm           20mm   \n",
       "1     5.2mm  x  20mm                      3ms            5.2mm           20mm   \n",
       "2     5.2mm  x  20mm                     10ms            5.2mm           20mm   \n",
       "3     5.2mm  x  20mm                     10ms            5.2mm           20mm   \n",
       "4     5.2mm  x  20mm                     10ms            5.2mm           20mm   \n",
       "\n",
       "  Rated Breaking Capacity (A) Rated Current (A) Rated Voltage (V)  \\\n",
       "0                       1500A              1.6A              250V   \n",
       "1                       1500A              6.3A              250V   \n",
       "2                       1500A                8A              250V   \n",
       "3                       1500A               10A              250V   \n",
       "4                        500A             12.5A              250V   \n",
       "\n",
       "  Rated Voltage(AC) (V) Rated Voltage(DC) (V)  \n",
       "0                  250V                   NaN  \n",
       "1                  250V                   NaN  \n",
       "2                  250V                   NaN  \n",
       "3                  250V                   NaN  \n",
       "4                  250V                   NaN  "
      ]
     },
     "execution_count": 12,
     "metadata": {},
     "output_type": "execute_result"
    }
   ],
   "source": [
    "df.head()"
   ]
  },
  {
   "cell_type": "markdown",
   "id": "a272b709-d0a8-4560-b55d-3e3b80fd231f",
   "metadata": {},
   "source": [
    "## Preprocess & EDA"
   ]
  },
  {
   "cell_type": "code",
   "execution_count": null,
   "id": "9f4ac0d9-0290-45d2-8fc3-1cd74ed3254b",
   "metadata": {},
   "outputs": [],
   "source": []
  },
  {
   "cell_type": "code",
   "execution_count": 54,
   "id": "9fd5a6d5-58d0-4317-8753-6ea9a8282791",
   "metadata": {},
   "outputs": [
    {
     "data": {
      "text/plain": [
       "ID                                 998\n",
       "DESCRIPTION                        583\n",
       "Attribut1                            6\n",
       "Additional Feature                  40\n",
       "Application                         29\n",
       "Characteristic                       8\n",
       "Temp                                17\n",
       "Height                              34\n",
       "Length in mm                        31\n",
       "Rating                              71\n",
       "Material                             9\n",
       "Size                                40\n",
       "Code                                 5\n",
       "Joule-integral-Nom (J)             375\n",
       "LC Risk                              4\n",
       "Maximum AC Voltage Rating           10\n",
       "Maximum DC Voltage Rating           12\n",
       "Maximum Power Dissipation          104\n",
       "Mounting                             6\n",
       "Mounting Feature                     4\n",
       "Number of Terminals                  2\n",
       "Operating Temperature-Max (Cel)      6\n",
       "Operating Temperature-Min (Cel)      3\n",
       "Physical Dimension                  39\n",
       "Pre-arcing time-Min (ms)            19\n",
       "Product Diameter                    16\n",
       "Product Length                      39\n",
       "Rated Breaking Capacity (A)         20\n",
       "Rated Current (A)                   53\n",
       "Rated Voltage (V)                   10\n",
       "Rated Voltage(AC) (V)               10\n",
       "Rated Voltage(DC) (V)               12\n",
       "dtype: int64"
      ]
     },
     "execution_count": 54,
     "metadata": {},
     "output_type": "execute_result"
    }
   ],
   "source": [
    "df.nunique(dropna=False)"
   ]
  },
  {
   "cell_type": "code",
   "execution_count": null,
   "id": "a5e55601-0a4d-456b-b657-ddc62988edbe",
   "metadata": {},
   "outputs": [],
   "source": []
  },
  {
   "cell_type": "code",
   "execution_count": 15,
   "id": "845b9ded-825b-4b95-9c19-746593e4843d",
   "metadata": {},
   "outputs": [
    {
     "data": {
      "text/plain": [
       "ID                                  object\n",
       "DESCRIPTION                         object\n",
       "Attribut1                           object\n",
       "Additional Feature                  object\n",
       "Application                         object\n",
       "Characteristic                      object\n",
       "Temp                                object\n",
       "Height                              object\n",
       "Length in mm                        object\n",
       "Rating                              object\n",
       "Material                            object\n",
       "Size                                object\n",
       "Code                                object\n",
       "Joule-integral-Nom (J)              object\n",
       "LC Risk                             object\n",
       "Maximum AC Voltage Rating           object\n",
       "Maximum DC Voltage Rating           object\n",
       "Maximum Power Dissipation           object\n",
       "Mounting                            object\n",
       "Mounting Feature                    object\n",
       "Number of Terminals                float64\n",
       "Operating Temperature-Max (Cel)     object\n",
       "Operating Temperature-Min (Cel)     object\n",
       "Physical Dimension                  object\n",
       "Pre-arcing time-Min (ms)            object\n",
       "Product Diameter                    object\n",
       "Product Length                      object\n",
       "Rated Breaking Capacity (A)         object\n",
       "Rated Current (A)                   object\n",
       "Rated Voltage (V)                   object\n",
       "Rated Voltage(AC) (V)               object\n",
       "Rated Voltage(DC) (V)               object\n",
       "dtype: object"
      ]
     },
     "execution_count": 15,
     "metadata": {},
     "output_type": "execute_result"
    }
   ],
   "source": [
    "df.dtypes"
   ]
  },
  {
   "cell_type": "code",
   "execution_count": 14,
   "id": "abee6280-327f-4298-a6ce-5b306aadab73",
   "metadata": {},
   "outputs": [
    {
     "data": {
      "text/plain": [
       "ID                                 0.000000\n",
       "DESCRIPTION                        0.335671\n",
       "Attribut1                          0.228457\n",
       "Additional Feature                 0.675351\n",
       "Application                        0.177355\n",
       "Characteristic                     0.326653\n",
       "Temp                               0.582164\n",
       "Height                             0.293587\n",
       "Length in mm                       0.293587\n",
       "Rating                             0.164329\n",
       "Material                           0.227455\n",
       "Size                               0.118236\n",
       "Code                               0.443888\n",
       "Joule-integral-Nom (J)             0.335671\n",
       "LC Risk                            0.212425\n",
       "Maximum AC Voltage Rating          0.264529\n",
       "Maximum DC Voltage Rating          0.551102\n",
       "Maximum Power Dissipation          0.746493\n",
       "Mounting                           0.224449\n",
       "Mounting Feature                   0.319639\n",
       "Number of Terminals                0.240481\n",
       "Operating Temperature-Max (Cel)    0.291583\n",
       "Operating Temperature-Min (Cel)    0.296593\n",
       "Physical Dimension                 0.330661\n",
       "Pre-arcing time-Min (ms)           0.891784\n",
       "Product Diameter                   0.727455\n",
       "Product Length                     0.238477\n",
       "Rated Breaking Capacity (A)        0.343687\n",
       "Rated Current (A)                  0.325651\n",
       "Rated Voltage (V)                  0.560120\n",
       "Rated Voltage(AC) (V)              0.434870\n",
       "Rated Voltage(DC) (V)              0.542084\n",
       "dtype: float64"
      ]
     },
     "execution_count": 14,
     "metadata": {},
     "output_type": "execute_result"
    }
   ],
   "source": [
    "df.isnull().mean()"
   ]
  },
  {
   "cell_type": "code",
   "execution_count": 18,
   "id": "b658bfd2-43bf-46fb-9556-78b30c1d3b74",
   "metadata": {},
   "outputs": [
    {
     "data": {
      "text/plain": [
       "0    Indicator Red Fast Movement 1.6A 250V Holder P...\n",
       "1    Non Resettable Indicators Electric Indicator, ...\n",
       "2    Indicator Red Fast Movement 8A 250V Holder Pla...\n",
       "3    Non Resettable Indicators Electric Indicator, ...\n",
       "4    Indicator Red Fast Movement 12.5A 250V Holder ...\n",
       "Name: DESCRIPTION, dtype: object"
      ]
     },
     "execution_count": 18,
     "metadata": {},
     "output_type": "execute_result"
    }
   ],
   "source": [
    "df['DESCRIPTION'].head()"
   ]
  },
  {
   "cell_type": "code",
   "execution_count": 20,
   "id": "602a72a5-c6ce-4d21-a4d3-110d7f75da87",
   "metadata": {},
   "outputs": [
    {
     "data": {
      "text/plain": [
       "415"
      ]
     },
     "execution_count": 20,
     "metadata": {},
     "output_type": "execute_result"
    }
   ],
   "source": [
    "df['DESCRIPTION'].duplicated().sum()"
   ]
  },
  {
   "cell_type": "code",
   "execution_count": 37,
   "id": "9b670cd8-d67c-4ed0-8be2-a6092a387724",
   "metadata": {},
   "outputs": [],
   "source": [
    "dup_bool = df['DESCRIPTION'].duplicated()"
   ]
  },
  {
   "cell_type": "code",
   "execution_count": 43,
   "id": "76b10eb6-0c8e-400f-8cc3-342718bd6931",
   "metadata": {},
   "outputs": [],
   "source": [
    "foo = df[dup_bool][['DESCRIPTION']]"
   ]
  },
  {
   "cell_type": "code",
   "execution_count": 48,
   "id": "35d9c118-947e-4fdc-b02e-d3eb84814955",
   "metadata": {},
   "outputs": [],
   "source": [
    "foo = foo[foo['DESCRIPTION'].notnull()]"
   ]
  },
  {
   "cell_type": "code",
   "execution_count": 50,
   "id": "367b481f-d442-416d-a1d9-951a6992749d",
   "metadata": {},
   "outputs": [],
   "source": [
    "foo = foo.sort_values(by=['DESCRIPTION'])"
   ]
  },
  {
   "cell_type": "code",
   "execution_count": 51,
   "id": "55b1ee89-4ed5-4017-8273-850f8deb6b8a",
   "metadata": {},
   "outputs": [
    {
     "data": {
      "text/html": [
       "<div>\n",
       "<style scoped>\n",
       "    .dataframe tbody tr th:only-of-type {\n",
       "        vertical-align: middle;\n",
       "    }\n",
       "\n",
       "    .dataframe tbody tr th {\n",
       "        vertical-align: top;\n",
       "    }\n",
       "\n",
       "    .dataframe thead th {\n",
       "        text-align: right;\n",
       "    }\n",
       "</style>\n",
       "<table border=\"1\" class=\"dataframe\">\n",
       "  <thead>\n",
       "    <tr style=\"text-align: right;\">\n",
       "      <th></th>\n",
       "      <th>DESCRIPTION</th>\n",
       "    </tr>\n",
       "  </thead>\n",
       "  <tbody>\n",
       "    <tr>\n",
       "      <th>994</th>\n",
       "      <td>Indicator Chip Slow Blow Movement 1.5A 125V SMD Solder Pad 2410 Ceramic T/R CSA/PSE/UL Electric Indicator, Slow Blow, 1.5A, 125VAC, 125VDC, 50A (IR), Surface Mount, NANO</td>\n",
       "    </tr>\n",
       "    <tr>\n",
       "      <th>969</th>\n",
       "      <td>Indicator Chip Slow Blow Movement 1A 125V SMD Solder Pad 2410 Ceramic T/R CSA/PSE/UL Electric Indicator, Slow Blow, 1A, 125VAC, 125VDC, 50A (IR), Surface Mount, NANO</td>\n",
       "    </tr>\n",
       "    <tr>\n",
       "      <th>997</th>\n",
       "      <td>Indicator Chip Slow Blow Movement 2.5A 125V SMD Solder Pad 2410 Ceramic T/R CSA/PSE/UL Electric Indicator, Slow Blow, 2.5A, 125VAC, 125VDC, 50A (IR), Surface Mount</td>\n",
       "    </tr>\n",
       "    <tr>\n",
       "      <th>973</th>\n",
       "      <td>Indicator Chip Slow Blow Movement 2A 125V SMD Solder Pad 2410 Ceramic T/R CSA/PSE/UL Electric Indicator, Slow Blow, 2A, 125VAC, 125VDC, 50A (IR), Surface Mount, NANO</td>\n",
       "    </tr>\n",
       "    <tr>\n",
       "      <th>977</th>\n",
       "      <td>Indicator Chip Slow Blow Movement 3A 125V SMD Solder Pad 2410 Ceramic T/R CSA/PSE/UL Electric Indicator, Slow Blow, 3A, 125VAC, 125VDC, 50A (IR), Surface Mount, NANO</td>\n",
       "    </tr>\n",
       "    <tr>\n",
       "      <th>...</th>\n",
       "      <td>...</td>\n",
       "    </tr>\n",
       "    <tr>\n",
       "      <th>317</th>\n",
       "      <td>Indicator Red Slow Blow Movement 0.125A 250V Holder Plastic 5 X 20mm Glass Bulk CCC/CE/CSA/KC/SEMKO/UL/VDE Electric Indicator, Time Lag Blow, 0.125A, 250VAC, 35A (IR), Supplemental, Inline/holder, 5x20mm</td>\n",
       "    </tr>\n",
       "    <tr>\n",
       "      <th>59</th>\n",
       "      <td>Indicator Red Slow Blow Movement 16A 250V Holder Plastic Melf 5 X 20mm Ceramic T/R CCC/VDE/cULus Electric Indicator, Time Lag Blow, 16A, 250VAC, 125VDC, 500A (IR), Surface Mount</td>\n",
       "    </tr>\n",
       "    <tr>\n",
       "      <th>42</th>\n",
       "      <td>Indicator Red Slow Blow Movement 4A 250V Holder Plastic Melf 5 X 20mm Ceramic T/R CCC/VDE/cULus Electric Indicator, Time Lag Blow, 4A, 250VAC, 150VDC, 1500A (IR), Surface Mount</td>\n",
       "    </tr>\n",
       "    <tr>\n",
       "      <th>418</th>\n",
       "      <td>Indicator SubRed Very Fast Movement 0.062A 125V Axial 2.8 X 7.11mm Ceramic Ammo CSA/UL Electric Indicator, Very Fast Blow, 0.062A, 125VAC, 125VDC, 50A (IR), Through Hole</td>\n",
       "    </tr>\n",
       "    <tr>\n",
       "      <th>415</th>\n",
       "      <td>Indicator SubRed Very Fast Movement 10A 125V Axial 2.8 X 7.11mm Ceramic T/R CSA/TUV/UL Electric Indicator, Very Fast Blow, 10A, 125VAC, 125VDC, 50A (IR), Supplemental, Through Hole, PICO</td>\n",
       "    </tr>\n",
       "  </tbody>\n",
       "</table>\n",
       "<p>81 rows × 1 columns</p>\n",
       "</div>"
      ],
      "text/plain": [
       "                                                                                                                                                                                                     DESCRIPTION\n",
       "994                                    Indicator Chip Slow Blow Movement 1.5A 125V SMD Solder Pad 2410 Ceramic T/R CSA/PSE/UL Electric Indicator, Slow Blow, 1.5A, 125VAC, 125VDC, 50A (IR), Surface Mount, NANO\n",
       "969                                        Indicator Chip Slow Blow Movement 1A 125V SMD Solder Pad 2410 Ceramic T/R CSA/PSE/UL Electric Indicator, Slow Blow, 1A, 125VAC, 125VDC, 50A (IR), Surface Mount, NANO\n",
       "997                                          Indicator Chip Slow Blow Movement 2.5A 125V SMD Solder Pad 2410 Ceramic T/R CSA/PSE/UL Electric Indicator, Slow Blow, 2.5A, 125VAC, 125VDC, 50A (IR), Surface Mount\n",
       "973                                        Indicator Chip Slow Blow Movement 2A 125V SMD Solder Pad 2410 Ceramic T/R CSA/PSE/UL Electric Indicator, Slow Blow, 2A, 125VAC, 125VDC, 50A (IR), Surface Mount, NANO\n",
       "977                                        Indicator Chip Slow Blow Movement 3A 125V SMD Solder Pad 2410 Ceramic T/R CSA/PSE/UL Electric Indicator, Slow Blow, 3A, 125VAC, 125VDC, 50A (IR), Surface Mount, NANO\n",
       "..                                                                                                                                                                                                           ...\n",
       "317  Indicator Red Slow Blow Movement 0.125A 250V Holder Plastic 5 X 20mm Glass Bulk CCC/CE/CSA/KC/SEMKO/UL/VDE Electric Indicator, Time Lag Blow, 0.125A, 250VAC, 35A (IR), Supplemental, Inline/holder, 5x20mm\n",
       "59                             Indicator Red Slow Blow Movement 16A 250V Holder Plastic Melf 5 X 20mm Ceramic T/R CCC/VDE/cULus Electric Indicator, Time Lag Blow, 16A, 250VAC, 125VDC, 500A (IR), Surface Mount\n",
       "42                              Indicator Red Slow Blow Movement 4A 250V Holder Plastic Melf 5 X 20mm Ceramic T/R CCC/VDE/cULus Electric Indicator, Time Lag Blow, 4A, 250VAC, 150VDC, 1500A (IR), Surface Mount\n",
       "418                                    Indicator SubRed Very Fast Movement 0.062A 125V Axial 2.8 X 7.11mm Ceramic Ammo CSA/UL Electric Indicator, Very Fast Blow, 0.062A, 125VAC, 125VDC, 50A (IR), Through Hole\n",
       "415                   Indicator SubRed Very Fast Movement 10A 125V Axial 2.8 X 7.11mm Ceramic T/R CSA/TUV/UL Electric Indicator, Very Fast Blow, 10A, 125VAC, 125VDC, 50A (IR), Supplemental, Through Hole, PICO\n",
       "\n",
       "[81 rows x 1 columns]"
      ]
     },
     "execution_count": 51,
     "metadata": {},
     "output_type": "execute_result"
    }
   ],
   "source": [
    "foo"
   ]
  },
  {
   "cell_type": "code",
   "execution_count": 52,
   "id": "599fb827-edf6-48c6-9f85-adec159a17ab",
   "metadata": {},
   "outputs": [
    {
     "data": {
      "text/plain": [
       "81"
      ]
     },
     "execution_count": 52,
     "metadata": {},
     "output_type": "execute_result"
    }
   ],
   "source": [
    "len(foo)"
   ]
  },
  {
   "cell_type": "code",
   "execution_count": null,
   "id": "74c74057-766c-4b3f-b8d8-0001094d63a1",
   "metadata": {},
   "outputs": [],
   "source": []
  }
 ],
 "metadata": {
  "kernelspec": {
   "display_name": "Python 3 (ipykernel)",
   "language": "python",
   "name": "python3"
  },
  "language_info": {
   "codemirror_mode": {
    "name": "ipython",
    "version": 3
   },
   "file_extension": ".py",
   "mimetype": "text/x-python",
   "name": "python",
   "nbconvert_exporter": "python",
   "pygments_lexer": "ipython3",
   "version": "3.10.11"
  }
 },
 "nbformat": 4,
 "nbformat_minor": 5
}
